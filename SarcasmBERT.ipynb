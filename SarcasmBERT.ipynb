{
 "cells": [
  {
   "cell_type": "markdown",
   "metadata": {
    "colab_type": "text",
    "id": "TTSkF4JeUzlA"
   },
   "source": [
    "# Detecting Sarcasm in Reddit Comments – BERT\n",
    "\n",
    "**Team 4:** Nanda H Krishna, Rubini U and Vikram Reddy\n",
    "\n",
    "**Checklist:**\n",
    "1. [x] EDA and Pre-processing\n",
    "2. [x] TF-IDF (Random Forest, Gradient Boosting, Gaussian Naïve Bayes, Multi-Layer Perceptron, Neural Network)\n",
    "    - [x] TF-IDF on Pre-processed Text\n",
    "    - [x] TF-IDF on Raw Text\n",
    "    - [x] Effect of using 2-grams\n",
    "    - [x] Effect of using PCA\n",
    "    - [x] Ensembling models\n",
    "    - [x] Model Interpretability\n",
    "3. [x] BERT Embeddings"
   ]
  },
  {
   "cell_type": "markdown",
   "metadata": {
    "colab_type": "text",
    "id": "lAvUSbNRUzlB"
   },
   "source": [
    "## Importing Modules"
   ]
  },
  {
   "cell_type": "code",
   "execution_count": null,
   "metadata": {
    "colab": {},
    "colab_type": "code",
    "id": "IBYE4gwYUzlD"
   },
   "outputs": [],
   "source": [
    "import warnings\n",
    "warnings.filterwarnings('ignore')"
   ]
  },
  {
   "cell_type": "code",
   "execution_count": null,
   "metadata": {
    "colab": {},
    "colab_type": "code",
    "id": "BmKhKWxlUzlI",
    "scrolled": true
   },
   "outputs": [],
   "source": [
    "import numpy as np\n",
    "import pandas as pd\n",
    "import sentence_transformers\n",
    "from sklearn.ensemble import RandomForestClassifier\n",
    "from sklearn.metrics import classification_report\n",
    "from sklearn.model_selection import train_test_split\n",
    "from sklearn.preprocessing import LabelEncoder\n",
    "from sklearn.utils import shuffle"
   ]
  },
  {
   "cell_type": "code",
   "execution_count": null,
   "metadata": {
    "colab": {},
    "colab_type": "code",
    "id": "s0E2KhPDUzlL"
   },
   "outputs": [],
   "source": [
    "random_state = 42"
   ]
  },
  {
   "cell_type": "markdown",
   "metadata": {
    "colab_type": "text",
    "id": "rcCRGqeZUzlO"
   },
   "source": [
    "## Loading Dataset\n",
    "\n",
    "First, we'll be removing all NaNs from the dataset. Then we will be restricting ourselves to 125000 instances from the dataset due to compute power limitations."
   ]
  },
  {
   "cell_type": "code",
   "execution_count": null,
   "metadata": {
    "colab": {},
    "colab_type": "code",
    "id": "dRdMLHNrUzlP"
   },
   "outputs": [],
   "source": [
    "df = pd.read_csv('sarcasm/dataset.csv')"
   ]
  },
  {
   "cell_type": "code",
   "execution_count": null,
   "metadata": {
    "colab": {
     "base_uri": "https://localhost:8080/",
     "height": 68
    },
    "colab_type": "code",
    "id": "43CgFGtmUzlR",
    "outputId": "ad59d2ed-1115-4908-9d24-1a616bc31999"
   },
   "outputs": [],
   "source": [
    "df['label'].value_counts()"
   ]
  },
  {
   "cell_type": "code",
   "execution_count": null,
   "metadata": {
    "colab": {
     "base_uri": "https://localhost:8080/",
     "height": 564
    },
    "colab_type": "code",
    "id": "8jeKBEUeUzlU",
    "outputId": "036b0287-68b8-42fb-cb5c-470d5b171e21",
    "scrolled": true
   },
   "outputs": [],
   "source": [
    "df.head()"
   ]
  },
  {
   "cell_type": "code",
   "execution_count": null,
   "metadata": {
    "colab": {
     "base_uri": "https://localhost:8080/",
     "height": 374
    },
    "colab_type": "code",
    "id": "a09zqN8NUzlW",
    "outputId": "5fc79f86-16dc-4f07-f688-8370886d14bc"
   },
   "outputs": [],
   "source": [
    "df.info()"
   ]
  },
  {
   "cell_type": "code",
   "execution_count": null,
   "metadata": {
    "colab": {},
    "colab_type": "code",
    "id": "mGr3XiepUzlZ"
   },
   "outputs": [],
   "source": [
    "df.dropna(inplace=True)\n",
    "df = df.sample(n=125000, random_state=random_state)\n",
    "df.reset_index(inplace=True, drop=True)"
   ]
  },
  {
   "cell_type": "code",
   "execution_count": null,
   "metadata": {
    "colab": {
     "base_uri": "https://localhost:8080/",
     "height": 34
    },
    "colab_type": "code",
    "id": "ejDOYPdtUzlc",
    "outputId": "5794355a-1c69-4ab6-af09-4a51b1c6c2bf"
   },
   "outputs": [],
   "source": [
    "df.shape"
   ]
  },
  {
   "cell_type": "markdown",
   "metadata": {
    "colab_type": "text",
    "id": "sGpBzftxUzlf"
   },
   "source": [
    "## Splitting Data"
   ]
  },
  {
   "cell_type": "code",
   "execution_count": null,
   "metadata": {
    "colab": {},
    "colab_type": "code",
    "id": "T8RTzT6rUzlf"
   },
   "outputs": [],
   "source": [
    "df = shuffle(df).reset_index(drop=True)"
   ]
  },
  {
   "cell_type": "code",
   "execution_count": null,
   "metadata": {
    "colab": {},
    "colab_type": "code",
    "id": "eWdq07deUzlh"
   },
   "outputs": [],
   "source": [
    "author_le = LabelEncoder()\n",
    "df['author'] = author_le.fit_transform(df['author'])\n",
    "sub_le = LabelEncoder()\n",
    "df['subreddit'] = sub_le.fit_transform(df['subreddit'])"
   ]
  },
  {
   "cell_type": "code",
   "execution_count": null,
   "metadata": {
    "colab": {},
    "colab_type": "code",
    "id": "a25NgGmKUzlj"
   },
   "outputs": [],
   "source": [
    "split = int(df.shape[0] * 0.8)\n",
    "df_train = df.iloc[:split, :].reset_index(drop=True)\n",
    "df_test = df.iloc[split:, :].reset_index(drop=True)\n",
    "del df"
   ]
  },
  {
   "cell_type": "code",
   "execution_count": null,
   "metadata": {
    "colab": {
     "base_uri": "https://localhost:8080/",
     "height": 34
    },
    "colab_type": "code",
    "id": "uxEArRNCUzlm",
    "outputId": "e3ecb425-33e8-4fe1-de91-1e18724d3084"
   },
   "outputs": [],
   "source": [
    "print(df_train.shape, df_test.shape)"
   ]
  },
  {
   "cell_type": "code",
   "execution_count": null,
   "metadata": {
    "colab": {
     "base_uri": "https://localhost:8080/",
     "height": 530
    },
    "colab_type": "code",
    "id": "DSR2kInCUzlo",
    "outputId": "1eda6eb5-4b87-41f3-fd01-a83074e90495"
   },
   "outputs": [],
   "source": [
    "df_train.head()"
   ]
  },
  {
   "cell_type": "code",
   "execution_count": null,
   "metadata": {
    "colab": {
     "base_uri": "https://localhost:8080/",
     "height": 598
    },
    "colab_type": "code",
    "id": "TeF1Ak_qUzlq",
    "outputId": "244bf76e-8f1b-44d8-9754-0aa29d57c80c"
   },
   "outputs": [],
   "source": [
    "df_test.head()"
   ]
  },
  {
   "cell_type": "markdown",
   "metadata": {
    "colab_type": "text",
    "id": "yb8eNe9LUzlr"
   },
   "source": [
    "## BERT Sentence Embeddings"
   ]
  },
  {
   "cell_type": "markdown",
   "metadata": {
    "colab_type": "text",
    "id": "-kLILSmtUzlr"
   },
   "source": [
    "We will be using the Random Forest Classifier on BERT Sentence Embeddings."
   ]
  },
  {
   "cell_type": "code",
   "execution_count": null,
   "metadata": {
    "colab": {
     "base_uri": "https://localhost:8080/",
     "height": 34
    },
    "colab_type": "code",
    "id": "VS-JH415Uzls",
    "outputId": "695617e5-40cc-4fac-a5ef-6fdda3f76c9b"
   },
   "outputs": [],
   "source": [
    "bert_model = sentence_transformers.SentenceTransformer('bert-base-nli-mean-tokens')"
   ]
  },
  {
   "cell_type": "code",
   "execution_count": null,
   "metadata": {
    "colab": {},
    "colab_type": "code",
    "id": "W4aDYX_FUzlt"
   },
   "outputs": [],
   "source": [
    "train_comment_embeddings = bert_model.encode(df_train['comment'])"
   ]
  },
  {
   "cell_type": "code",
   "execution_count": null,
   "metadata": {
    "colab": {
     "base_uri": "https://localhost:8080/",
     "height": 34
    },
    "colab_type": "code",
    "id": "iii26srPUzlv",
    "outputId": "e225f6a1-120a-4820-e320-b4cd68a28c6e"
   },
   "outputs": [],
   "source": [
    "train_comment_embeddings[0].shape"
   ]
  },
  {
   "cell_type": "markdown",
   "metadata": {},
   "source": [
    "### Using only comment embeddings"
   ]
  },
  {
   "cell_type": "code",
   "execution_count": null,
   "metadata": {
    "colab": {},
    "colab_type": "code",
    "id": "KOMNQmU4WwER"
   },
   "outputs": [],
   "source": [
    "model = RandomForestClassifier(n_estimators=50, verbose=1, n_jobs=-1)"
   ]
  },
  {
   "cell_type": "code",
   "execution_count": null,
   "metadata": {
    "colab": {
     "base_uri": "https://localhost:8080/",
     "height": 204
    },
    "colab_type": "code",
    "id": "qKL_PPf6XHAR",
    "outputId": "fea20472-29e3-4293-c00b-6e3743475ee9"
   },
   "outputs": [],
   "source": [
    "model.fit(train_comment_embeddings, np.array(df_train['label']))"
   ]
  },
  {
   "cell_type": "code",
   "execution_count": null,
   "metadata": {
    "colab": {},
    "colab_type": "code",
    "id": "TXUvUV9NXRk7"
   },
   "outputs": [],
   "source": [
    "test_comment_embeddings = bert_model.encode(df_test['comment'])"
   ]
  },
  {
   "cell_type": "code",
   "execution_count": null,
   "metadata": {
    "colab": {
     "base_uri": "https://localhost:8080/",
     "height": 68
    },
    "colab_type": "code",
    "id": "QfIroqh1X0-x",
    "outputId": "5cdc9647-7957-4891-f8e6-17a199866370"
   },
   "outputs": [],
   "source": [
    "pred = model.predict(test_comment_embeddings)"
   ]
  },
  {
   "cell_type": "code",
   "execution_count": null,
   "metadata": {
    "colab": {
     "base_uri": "https://localhost:8080/",
     "height": 170
    },
    "colab_type": "code",
    "id": "S54NallIYCMU",
    "outputId": "4ba9b99d-9a29-4f21-faa9-b34907f07f7d"
   },
   "outputs": [],
   "source": [
    "print(classification_report(np.array(df_test['label']), pred))"
   ]
  },
  {
   "cell_type": "markdown",
   "metadata": {},
   "source": [
    "### Adding the subreddit and author as features"
   ]
  },
  {
   "cell_type": "code",
   "execution_count": null,
   "metadata": {
    "colab": {},
    "colab_type": "code",
    "id": "DgeFH-_CYcxU"
   },
   "outputs": [],
   "source": [
    "for i in range(len(train_comment_embeddings)):\n",
    "    train_comment_embeddings[i] = np.append(train_comment_embeddings[i], df_train['subreddit'].iloc[i])"
   ]
  },
  {
   "cell_type": "code",
   "execution_count": null,
   "metadata": {
    "colab": {
     "base_uri": "https://localhost:8080/",
     "height": 204
    },
    "colab_type": "code",
    "id": "PyHw1u7WZNAC",
    "outputId": "92894554-8dd4-4920-c1ef-7e1012513a04"
   },
   "outputs": [],
   "source": [
    "model = RandomForestClassifier(n_estimators=50, verbose=1, n_jobs=-1)\n",
    "model.fit(train_comment_embeddings, np.array(df_train['label']))"
   ]
  },
  {
   "cell_type": "code",
   "execution_count": null,
   "metadata": {
    "colab": {},
    "colab_type": "code",
    "id": "O2eAWHxyZSfZ"
   },
   "outputs": [],
   "source": [
    "for i in range(len(test_comment_embeddings)):\n",
    "    test_comment_embeddings[i] = np.append(test_comment_embeddings[i], df_test['subreddit'].iloc[i])"
   ]
  },
  {
   "cell_type": "code",
   "execution_count": null,
   "metadata": {
    "colab": {
     "base_uri": "https://localhost:8080/",
     "height": 68
    },
    "colab_type": "code",
    "id": "dE0erSqBZV5k",
    "outputId": "70811e8e-4ed6-4acf-b906-4771b2ebbdd4"
   },
   "outputs": [],
   "source": [
    "pred = model.predict(test_comment_embeddings)"
   ]
  },
  {
   "cell_type": "code",
   "execution_count": null,
   "metadata": {
    "colab": {
     "base_uri": "https://localhost:8080/",
     "height": 170
    },
    "colab_type": "code",
    "id": "MNj7NKWoZ7fs",
    "outputId": "03142dd9-c59b-4a3c-fb35-b3741de3425d"
   },
   "outputs": [],
   "source": [
    "print(classification_report(np.array(df_test['label']), pred))"
   ]
  },
  {
   "cell_type": "code",
   "execution_count": null,
   "metadata": {
    "colab": {},
    "colab_type": "code",
    "id": "-l7EIm5YanID"
   },
   "outputs": [],
   "source": [
    "for i in range(len(train_comment_embeddings)):\n",
    "    train_comment_embeddings[i] = np.append(train_comment_embeddings[i], df_train['author'].iloc[i])"
   ]
  },
  {
   "cell_type": "code",
   "execution_count": null,
   "metadata": {
    "colab": {
     "base_uri": "https://localhost:8080/",
     "height": 204
    },
    "colab_type": "code",
    "id": "AaU_OPwMa0L5",
    "outputId": "11c27994-d927-412b-de59-b1e62a6bcbe8"
   },
   "outputs": [],
   "source": [
    "model = RandomForestClassifier(n_estimators=50, verbose=1, n_jobs=-1)\n",
    "model.fit(train_comment_embeddings, np.array(df_train['label']))"
   ]
  },
  {
   "cell_type": "code",
   "execution_count": null,
   "metadata": {
    "colab": {},
    "colab_type": "code",
    "id": "4jHr66pAa7Ct"
   },
   "outputs": [],
   "source": [
    "for i in range(len(test_comment_embeddings)):\n",
    "    test_comment_embeddings[i] = np.append(test_comment_embeddings[i], df_test['author'].iloc[i])"
   ]
  },
  {
   "cell_type": "code",
   "execution_count": null,
   "metadata": {
    "colab": {
     "base_uri": "https://localhost:8080/",
     "height": 68
    },
    "colab_type": "code",
    "id": "XUAW-xCqa-SY",
    "outputId": "a6c0e7b5-8072-459c-980e-ef691a63f7fe"
   },
   "outputs": [],
   "source": [
    "pred = model.predict(test_comment_embeddings)"
   ]
  },
  {
   "cell_type": "code",
   "execution_count": null,
   "metadata": {
    "colab": {
     "base_uri": "https://localhost:8080/",
     "height": 170
    },
    "colab_type": "code",
    "id": "jlQRvqFlbA6B",
    "outputId": "bc0e0cf0-316f-4fd4-c685-d7719513c648"
   },
   "outputs": [],
   "source": [
    "print(classification_report(np.array(df_test['label']), pred))"
   ]
  },
  {
   "cell_type": "markdown",
   "metadata": {},
   "source": [
    "### Adding parent comment embeddings as features"
   ]
  },
  {
   "cell_type": "code",
   "execution_count": null,
   "metadata": {
    "colab": {},
    "colab_type": "code",
    "id": "Zk3lHB3TbbGO"
   },
   "outputs": [],
   "source": [
    "train_parent_embeddings = bert_model.encode(df_train['parent_comment'])"
   ]
  },
  {
   "cell_type": "code",
   "execution_count": null,
   "metadata": {
    "colab": {},
    "colab_type": "code",
    "id": "fb8qgHUPb9mM"
   },
   "outputs": [],
   "source": [
    "for i in range(len(train_comment_embeddings)):\n",
    "    train_comment_embeddings[i] = np.append(train_comment_embeddings[i], train_parent_embeddings[i])"
   ]
  },
  {
   "cell_type": "code",
   "execution_count": null,
   "metadata": {
    "colab": {
     "base_uri": "https://localhost:8080/",
     "height": 204
    },
    "colab_type": "code",
    "id": "6B600mtucH8o",
    "outputId": "8f1d7dfd-818c-4a68-949a-9cf0cd9835bc"
   },
   "outputs": [],
   "source": [
    "model = RandomForestClassifier(n_estimators=50, verbose=1, n_jobs=-1)\n",
    "model.fit(train_comment_embeddings, np.array(df_train['label']))"
   ]
  },
  {
   "cell_type": "code",
   "execution_count": null,
   "metadata": {
    "colab": {},
    "colab_type": "code",
    "id": "FA1M4dw6cKw-"
   },
   "outputs": [],
   "source": [
    "test_parent_embeddings = bert_model.encode(df_test['parent_comment'])"
   ]
  },
  {
   "cell_type": "code",
   "execution_count": null,
   "metadata": {
    "colab": {},
    "colab_type": "code",
    "id": "Gp06I4oKcQlC"
   },
   "outputs": [],
   "source": [
    "for i in range(len(test_comment_embeddings)):\n",
    "    test_comment_embeddings[i] = np.append(test_comment_embeddings[i], test_parent_embeddings[i])"
   ]
  },
  {
   "cell_type": "code",
   "execution_count": null,
   "metadata": {
    "colab": {
     "base_uri": "https://localhost:8080/",
     "height": 68
    },
    "colab_type": "code",
    "id": "7gP9Fm6jcXKd",
    "outputId": "d5f68314-b804-4230-adf2-df06fd965982"
   },
   "outputs": [],
   "source": [
    "pred = model.predict(test_comment_embeddings)"
   ]
  },
  {
   "cell_type": "code",
   "execution_count": null,
   "metadata": {
    "colab": {
     "base_uri": "https://localhost:8080/",
     "height": 170
    },
    "colab_type": "code",
    "id": "C60IQf-zcZ4i",
    "outputId": "9388b14c-1309-4fe1-da2d-4f0182099b52"
   },
   "outputs": [],
   "source": [
    "print(classification_report(np.array(df_test['label']), pred))"
   ]
  },
  {
   "cell_type": "markdown",
   "metadata": {
    "colab": {},
    "colab_type": "code",
    "id": "e9MPyy6Ecb3B"
   },
   "source": [
    "With this amount of data, we managed to achieve an F1-score of about 0.64 on the validation set."
   ]
  }
 ],
 "metadata": {
  "accelerator": "GPU",
  "colab": {
   "name": "SarcasmBERT.ipynb",
   "provenance": [],
   "toc_visible": true
  },
  "kernelspec": {
   "display_name": "Python 3",
   "language": "python",
   "name": "python3"
  },
  "language_info": {
   "codemirror_mode": {
    "name": "ipython",
    "version": 3
   },
   "file_extension": ".py",
   "mimetype": "text/x-python",
   "name": "python",
   "nbconvert_exporter": "python",
   "pygments_lexer": "ipython3",
   "version": "3.8.0"
  }
 },
 "nbformat": 4,
 "nbformat_minor": 1
}
